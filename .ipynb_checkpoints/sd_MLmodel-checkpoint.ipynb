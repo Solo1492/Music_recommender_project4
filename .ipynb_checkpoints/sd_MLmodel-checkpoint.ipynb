{
 "cells": [
  {
   "cell_type": "code",
   "execution_count": 1,
   "id": "c79da491",
   "metadata": {},
   "outputs": [],
   "source": [
    "# Import dependencies\n",
    "from flask import Flask, request, render_template\n",
    "from sklearn.neighbors import KNeighborsRegressor\n",
    "from sklearn.model_selection import train_test_split\n",
    "from sklearn.metrics import r2_score\n",
    "import pandas as pd\n",
    "import numpy as np\n",
    "import pickle"
   ]
  },
  {
   "cell_type": "code",
   "execution_count": 2,
   "id": "37fd18da",
   "metadata": {},
   "outputs": [],
   "source": [
    "# load the dataset\n",
    "tracks = pd.read_csv('../Data/tracks.csv')"
   ]
  },
  {
   "cell_type": "code",
   "execution_count": 3,
   "id": "4a00de6a",
   "metadata": {},
   "outputs": [],
   "source": [
    "# select features and split data into training and testing sets\n",
    "features = ['popularity', 'acousticness', 'danceability', 'energy', 'instrumentalness', 'liveness', 'loudness', 'speechiness', 'tempo', 'valence']\n",
    "X = tracks[features]\n",
    "y = tracks['popularity']\n",
    "# Split using test_train_split\n",
    "X_train, X_test, y_train, y_test = train_test_split(X, y, test_size=0.2, random_state=42)\n"
   ]
  },
  {
   "cell_type": "code",
   "execution_count": 4,
   "id": "b5643755",
   "metadata": {},
   "outputs": [
    {
     "data": {
      "text/plain": [
       "KNeighborsRegressor()"
      ]
     },
     "execution_count": 4,
     "metadata": {},
     "output_type": "execute_result"
    }
   ],
   "source": [
    "# train the KNN model\n",
    "knn = KNeighborsRegressor(n_neighbors=5)\n",
    "knn.fit(X_train, y_train)\n"
   ]
  },
  {
   "cell_type": "code",
   "execution_count": 5,
   "id": "12f0317f",
   "metadata": {},
   "outputs": [
    {
     "name": "stdout",
     "output_type": "stream",
     "text": [
      "Test score: 0.9999104935898884\n",
      "R-squared value: 0.9999104935898884\n"
     ]
    }
   ],
   "source": [
    "# evaluate the model on the test set\n",
    "y_pred = knn.predict(X_test)\n",
    "test_score = knn.score(X_test, y_test)\n",
    "r2 = r2_score(y_test, y_pred)\n",
    "\n",
    "print('Test score:', test_score)\n",
    "print('R-squared value:', r2)"
   ]
  },
  {
   "cell_type": "code",
   "execution_count": 6,
   "id": "32e3d0d4",
   "metadata": {},
   "outputs": [],
   "source": [
    "# Save the k-NN model to a file using pickle\n",
    "with open('knn_model_sd.pkl', 'wb') as f:\n",
    "    pickle.dump(knn, f)"
   ]
  },
  {
   "cell_type": "code",
   "execution_count": null,
   "id": "e17e0156",
   "metadata": {},
   "outputs": [],
   "source": []
  }
 ],
 "metadata": {
  "kernelspec": {
   "display_name": "Python [conda env:PythonData] *",
   "language": "python",
   "name": "conda-env-PythonData-py"
  },
  "language_info": {
   "codemirror_mode": {
    "name": "ipython",
    "version": 3
   },
   "file_extension": ".py",
   "mimetype": "text/x-python",
   "name": "python",
   "nbconvert_exporter": "python",
   "pygments_lexer": "ipython3",
   "version": "3.7.7"
  }
 },
 "nbformat": 4,
 "nbformat_minor": 5
}
